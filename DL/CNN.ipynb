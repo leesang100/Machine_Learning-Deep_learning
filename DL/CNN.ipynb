{
 "cells": [
  {
   "cell_type": "code",
   "execution_count": 1,
   "metadata": {},
   "outputs": [],
   "source": [
    "import torch\n",
    "import torch.nn as nn\n",
    "import torch.nn.functional as F\n",
    "import torch.optim as optim\n",
    "from torchvision import datasets,transforms\n",
    "from torch.autograd import Variable\n",
    "import matplotlib.pyplot as plt\n",
    "%matplotlib inline"
   ]
  },
  {
   "cell_type": "code",
   "execution_count": 35,
   "metadata": {},
   "outputs": [],
   "source": [
    "is_cuda=False\n",
    "if torch.cuda.is_available():\n",
    "    is_cuda = True"
   ]
  },
  {
   "cell_type": "code",
   "execution_count": 2,
   "metadata": {},
   "outputs": [
    {
     "name": "stdout",
     "output_type": "stream",
     "text": [
      "Downloading http://yann.lecun.com/exdb/mnist/train-images-idx3-ubyte.gz\n",
      "Failed to download (trying next):\n",
      "HTTP Error 503: Service Unavailable\n",
      "\n",
      "Downloading https://ossci-datasets.s3.amazonaws.com/mnist/train-images-idx3-ubyte.gz\n",
      "Downloading https://ossci-datasets.s3.amazonaws.com/mnist/train-images-idx3-ubyte.gz to data/MNIST/raw/train-images-idx3-ubyte.gz\n"
     ]
    },
    {
     "data": {
      "application/vnd.jupyter.widget-view+json": {
       "model_id": "db336518ea6a4e5c8d49eb593b3069da",
       "version_major": 2,
       "version_minor": 0
      },
      "text/plain": [
       "HBox(children=(HTML(value=''), FloatProgress(value=0.0, max=9912422.0), HTML(value='')))"
      ]
     },
     "metadata": {},
     "output_type": "display_data"
    },
    {
     "name": "stdout",
     "output_type": "stream",
     "text": [
      "\n",
      "Extracting data/MNIST/raw/train-images-idx3-ubyte.gz to data/MNIST/raw\n",
      "\n",
      "Downloading http://yann.lecun.com/exdb/mnist/train-labels-idx1-ubyte.gz\n",
      "Failed to download (trying next):\n",
      "HTTP Error 503: Service Unavailable\n",
      "\n",
      "Downloading https://ossci-datasets.s3.amazonaws.com/mnist/train-labels-idx1-ubyte.gz\n",
      "Downloading https://ossci-datasets.s3.amazonaws.com/mnist/train-labels-idx1-ubyte.gz to data/MNIST/raw/train-labels-idx1-ubyte.gz\n"
     ]
    },
    {
     "data": {
      "application/vnd.jupyter.widget-view+json": {
       "model_id": "b04b3b088f4d466e8c872dedb51f04cc",
       "version_major": 2,
       "version_minor": 0
      },
      "text/plain": [
       "HBox(children=(HTML(value=''), FloatProgress(value=0.0, max=28881.0), HTML(value='')))"
      ]
     },
     "metadata": {},
     "output_type": "display_data"
    },
    {
     "name": "stdout",
     "output_type": "stream",
     "text": [
      "\n",
      "Extracting data/MNIST/raw/train-labels-idx1-ubyte.gz to data/MNIST/raw\n",
      "\n",
      "Downloading http://yann.lecun.com/exdb/mnist/t10k-images-idx3-ubyte.gz\n",
      "Failed to download (trying next):\n",
      "HTTP Error 503: Service Unavailable\n",
      "\n",
      "Downloading https://ossci-datasets.s3.amazonaws.com/mnist/t10k-images-idx3-ubyte.gz\n",
      "Downloading https://ossci-datasets.s3.amazonaws.com/mnist/t10k-images-idx3-ubyte.gz to data/MNIST/raw/t10k-images-idx3-ubyte.gz\n"
     ]
    },
    {
     "data": {
      "application/vnd.jupyter.widget-view+json": {
       "model_id": "1134e96840d642979d579bac48792b08",
       "version_major": 2,
       "version_minor": 0
      },
      "text/plain": [
       "HBox(children=(HTML(value=''), FloatProgress(value=0.0, max=1648877.0), HTML(value='')))"
      ]
     },
     "metadata": {},
     "output_type": "display_data"
    },
    {
     "name": "stdout",
     "output_type": "stream",
     "text": [
      "\n",
      "Extracting data/MNIST/raw/t10k-images-idx3-ubyte.gz to data/MNIST/raw\n",
      "\n",
      "Downloading http://yann.lecun.com/exdb/mnist/t10k-labels-idx1-ubyte.gz\n",
      "Failed to download (trying next):\n",
      "HTTP Error 503: Service Unavailable\n",
      "\n",
      "Downloading https://ossci-datasets.s3.amazonaws.com/mnist/t10k-labels-idx1-ubyte.gz\n",
      "Downloading https://ossci-datasets.s3.amazonaws.com/mnist/t10k-labels-idx1-ubyte.gz to data/MNIST/raw/t10k-labels-idx1-ubyte.gz\n"
     ]
    },
    {
     "data": {
      "application/vnd.jupyter.widget-view+json": {
       "model_id": "f812850015724bb996e856f69f7d6910",
       "version_major": 2,
       "version_minor": 0
      },
      "text/plain": [
       "HBox(children=(HTML(value=''), FloatProgress(value=0.0, max=4542.0), HTML(value='')))"
      ]
     },
     "metadata": {},
     "output_type": "display_data"
    },
    {
     "name": "stdout",
     "output_type": "stream",
     "text": [
      "\n",
      "Extracting data/MNIST/raw/t10k-labels-idx1-ubyte.gz to data/MNIST/raw\n",
      "\n",
      "Processing...\n",
      "Done!\n"
     ]
    },
    {
     "name": "stderr",
     "output_type": "stream",
     "text": [
      "/home/dsp12357/venv_torch/lib/python3.7/site-packages/torchvision/datasets/mnist.py:502: UserWarning: The given NumPy array is not writeable, and PyTorch does not support non-writeable tensors. This means you can write to the underlying (supposedly non-writeable) NumPy array using the tensor. You may want to copy the array to protect its data or make it writeable before converting it to a tensor. This type of warning will be suppressed for the rest of this program. (Triggered internally at  /pytorch/torch/csrc/utils/tensor_numpy.cpp:143.)\n",
      "  return torch.from_numpy(parsed.astype(m[2], copy=False)).view(*s)\n"
     ]
    }
   ],
   "source": [
    "transformation=transforms.Compose([transforms.ToTensor(),\n",
    "                                  transforms.Normalize((0.1307,),(0.3081,))])\n",
    "\n",
    "train_dataset=datasets.MNIST('data/',train=True,transform=transformation,download=True)\n",
    "test_dataset=datasets.MNIST('data/',train=False,transform=transformation,download=True)\n",
    "\n",
    "train_loader = torch.utils.data.DataLoader(train_dataset,batch_size=32,shuffle=True)\n",
    "test_loader = torch.utils.data.DataLoader(test_dataset,batch_size=32,shuffle=True)"
   ]
  },
  {
   "cell_type": "code",
   "execution_count": 3,
   "metadata": {},
   "outputs": [],
   "source": [
    "def plot_img(image):\n",
    "    image=image.numpy()[0]\n",
    "    mean=0.1307\n",
    "    std=0.3081\n",
    "    image=((mean*image)+std)\n",
    "    plt.imshow(image,cmap='gray')"
   ]
  },
  {
   "cell_type": "code",
   "execution_count": 41,
   "metadata": {},
   "outputs": [
    {
     "data": {
      "image/png": "[encoded data removed]",
      "text/plain": [
       "<Figure size 432x288 with 1 Axes>"
      ]
     },
     "metadata": {
      "needs_background": "light"
     },
     "output_type": "display_data"
    }
   ],
   "source": [
    "sample_data=next(iter(test_loader))\n",
    "plot_img(sample_data[0][1])\n",
    "plot_img(sample_data[0][2])"
   ]
  },
  {
   "cell_type": "code",
   "execution_count": 9,
   "metadata": {},
   "outputs": [],
   "source": [
    "class Net(nn.Module):\n",
    "    def __init__(self):\n",
    "        super().__init__()\n",
    "        self.conv1=nn.Conv2d(1,10,kernel_size=5)\n",
    "        self.conv2=nn.Conv2d(10,20,kernel_size=5)\n",
    "        self.conv2_drop=nn.Dropout2d()\n",
    "        self.fc1=nn.Linear(320,50)\n",
    "        self.fc2=nn.Linear(50,10)\n",
    "        \n",
    "    def forward(self,x):\n",
    "        x=F.relu(F.max_pool2d(self.conv1(x),2))\n",
    "        x=F.relu(F.max_pool2d(self.conv2_drop(self.conv2(x)),2))\n",
    "        x=x.view(-1,320)\n",
    "        x=F.relu(self.fc1(x))\n",
    "        x=F.dropout(x,training=self.training)\n",
    "        x=self.fc2(x)\n",
    "        return F.log_softmax(x)"
   ]
  },
  {
   "cell_type": "code",
   "execution_count": 30,
   "metadata": {},
   "outputs": [
    {
     "data": {
      "text/plain": [
       "Parameter containing:\n",
       "tensor([[[-0.5513,  0.5152, -0.4857]]], requires_grad=True)"
      ]
     },
     "execution_count": 30,
     "metadata": {},
     "output_type": "execute_result"
    }
   ],
   "source": [
    "conv=nn.Conv1d(1,1,3,bias=False)\n",
    "sample=torch.randn(1,1,7)\n",
    "conv(Variable(sample))\n",
    "\n",
    "conv.weight #필터 가중치 확인"
   ]
  },
  {
   "cell_type": "code",
   "execution_count": 43,
   "metadata": {},
   "outputs": [],
   "source": [
    "def fit(epoch,model,data_loader,phase='training',volatile=False):\n",
    "    if phase=='training':\n",
    "        model.train()\n",
    "    if phase=='validation':\n",
    "        model.eval()\n",
    "        volatile=True\n",
    "        \n",
    "    running_loss=0.0\n",
    "    running_correct=0\n",
    "    for batch_idx,(data,target) in enumerate(data_loader):\n",
    "        if is_cuda:\n",
    "            data,target=data.cuda(),target.cuda()\n",
    "        data,target=Variable(data,volatile),Variable(target)\n",
    "        if phase=='training':\n",
    "            optimizer.zero_grad()\n",
    "        output=model(data)\n",
    "        loss=F.nll_loss(output,target)\n",
    "        \n",
    "        running_loss+=F.nll_loss(output,target,size_average=False).data\n",
    "        preds=output.data.max(dim=1,keepdim=True)[1]\n",
    "        running_correct+=preds.eq(target.data.view_as(preds)).cpu().sum()\n",
    "        if phase=='training':\n",
    "            loss.backward()\n",
    "            optimizer.step()\n",
    "    loss=running_loss/len(data_loader.dataset)\n",
    "    accuracy=100.*running_correct/len(data_loader.dataset)\n",
    "            \n",
    "    print(f'{phase} loss is {loss:{5}.{2}} and {phase} accuracy is {running_correct}/{len(data_loader.dataset)} {accuracy:{10}.{4}}')\n",
    "    return loss,accuracy"
   ]
  },
  {
   "cell_type": "code",
   "execution_count": 44,
   "metadata": {
    "scrolled": true
   },
   "outputs": [
    {
     "name": "stderr",
     "output_type": "stream",
     "text": [
      "/home/dsp12357/venv_torch/lib/python3.7/site-packages/ipykernel_launcher.py:17: UserWarning: Implicit dimension choice for log_softmax has been deprecated. Change the call to include dim=X as an argument.\n"
     ]
    },
    {
     "name": "stdout",
     "output_type": "stream",
     "text": [
      "training loss is  0.72 and training accuracy is 45861/60000      76.43\n",
      "validation loss is  0.14 and validation accuracy is 9604/10000      96.04\n",
      "training loss is  0.31 and training accuracy is 54413/60000      90.69\n",
      "validation loss is 0.092 and validation accuracy is 9694/10000      96.94\n",
      "training loss is  0.25 and training accuracy is 55676/60000      92.79\n",
      "validation loss is 0.076 and validation accuracy is 9763/10000      97.63\n",
      "training loss is  0.22 and training accuracy is 56131/60000      93.55\n",
      "validation loss is 0.062 and validation accuracy is 9787/10000      97.87\n",
      "training loss is   0.2 and training accuracy is 56608/60000      94.35\n",
      "validation loss is 0.051 and validation accuracy is 9831/10000      98.31\n",
      "training loss is  0.18 and training accuracy is 56884/60000      94.81\n",
      "validation loss is 0.052 and validation accuracy is 9817/10000      98.17\n",
      "training loss is  0.17 and training accuracy is 57019/60000      95.03\n",
      "validation loss is 0.049 and validation accuracy is 9853/10000      98.53\n",
      "training loss is  0.16 and training accuracy is 57216/60000      95.36\n",
      "validation loss is 0.044 and validation accuracy is 9851/10000      98.51\n",
      "training loss is  0.15 and training accuracy is 57343/60000      95.57\n",
      "validation loss is 0.041 and validation accuracy is 9864/10000      98.64\n",
      "training loss is  0.15 and training accuracy is 57448/60000      95.75\n",
      "validation loss is 0.041 and validation accuracy is 9863/10000      98.63\n",
      "training loss is  0.14 and training accuracy is 57531/60000      95.89\n",
      "validation loss is 0.039 and validation accuracy is 9870/10000       98.7\n",
      "training loss is  0.14 and training accuracy is 57590/60000      95.98\n",
      "validation loss is 0.038 and validation accuracy is 9881/10000      98.81\n",
      "training loss is  0.14 and training accuracy is 57621/60000      96.04\n",
      "validation loss is 0.039 and validation accuracy is 9880/10000       98.8\n",
      "training loss is  0.13 and training accuracy is 57615/60000      96.03\n",
      "validation loss is 0.036 and validation accuracy is 9893/10000      98.93\n",
      "training loss is  0.13 and training accuracy is 57706/60000      96.18\n",
      "validation loss is 0.034 and validation accuracy is 9895/10000      98.95\n",
      "training loss is  0.13 and training accuracy is 57808/60000      96.35\n",
      "validation loss is 0.032 and validation accuracy is 9892/10000      98.92\n",
      "training loss is  0.12 and training accuracy is 57874/60000      96.46\n",
      "validation loss is 0.031 and validation accuracy is 9896/10000      98.96\n",
      "training loss is  0.12 and training accuracy is 57876/60000      96.46\n",
      "validation loss is 0.036 and validation accuracy is 9893/10000      98.93\n",
      "training loss is  0.12 and training accuracy is 57918/60000      96.53\n",
      "validation loss is 0.033 and validation accuracy is 9893/10000      98.93\n"
     ]
    }
   ],
   "source": [
    "model=Net()\n",
    "if is_cuda:\n",
    "    model.cuda()\n",
    "    \n",
    "    \n",
    "optimizer=optim.SGD(model.parameters(),lr=0.01,momentum=0.5)\n",
    "train_losses,train_accuracy=[],[]\n",
    "val_losses,val_accuracy=[],[]\n",
    "for epoch in range(1,20):\n",
    "    epoch_loss,epoch_accuracy=fit(epoch,model,train_loader,phase='training')\n",
    "    val_epoch_loss,val_epoch_accuracy=fit(epoch,model,test_loader,phase='validation')\n",
    "    train_losses.append(epoch_loss)\n",
    "    train_accuracy.append(epoch_accuracy)\n",
    "    val_losses.append(val_epoch_loss)\n",
    "    val_accuracy.append(val_epoch_accuracy)\n",
    "    \n",
    "    "
   ]
  },
  {
   "cell_type": "code",
   "execution_count": 46,
   "metadata": {
    "scrolled": true
   },
   "outputs": [
    {
     "data": {
      "text/plain": [
       "<matplotlib.legend.Legend at 0x7f0d1b856a50>"
      ]
     },
     "execution_count": 46,
     "metadata": {},
     "output_type": "execute_result"
    },
    {
     "data": {
      "image/png": "[encoded data removed]",
      "text/plain": [
       "<Figure size 432x288 with 1 Axes>"
      ]
     },
     "metadata": {
      "needs_background": "light"
     },
     "output_type": "display_data"
    }
   ],
   "source": [
    "plt.plot(range(1,len(train_losses)+1),train_losses,'bo',label = 'training loss')\n",
    "plt.plot(range(1,len(val_losses)+1),val_losses,'r',label = 'validation loss')\n",
    "plt.legend()"
   ]
  },
  {
   "cell_type": "code",
   "execution_count": 47,
   "metadata": {},
   "outputs": [
    {
     "data": {
      "text/plain": [
       "<matplotlib.legend.Legend at 0x7f0d1b75b990>"
      ]
     },
     "execution_count": 47,
     "metadata": {},
     "output_type": "execute_result"
    },
    {
     "data": {
      "image/png": "[encoded data removed]",
      "text/plain": [
       "<Figure size 432x288 with 1 Axes>"
      ]
     },
     "metadata": {
      "needs_background": "light"
     },
     "output_type": "display_data"
    }
   ],
   "source": [
    "plt.plot(range(1,len(train_accuracy)+1),train_accuracy,'bo',label = 'train accuracy')\n",
    "plt.plot(range(1,len(val_accuracy)+1),val_accuracy,'r',label = 'val accuracy')\n",
    "plt.legend()"
   ]
  },
  {
   "cell_type": "code",
   "execution_count": null,
   "metadata": {},
   "outputs": [],
   "source": []
  }
 ],
 "metadata": {
  "kernelspec": {
   "display_name": "ven_torch",
   "language": "python",
   "name": "venv_torch"
  },
  "language_info": {
   "codemirror_mode": {
    "name": "ipython",
    "version": 3
   },
   "file_extension": ".py",
   "mimetype": "text/x-python",
   "name": "python",
   "nbconvert_exporter": "python",
   "pygments_lexer": "ipython3",
   "version": "3.7.5"
  }
 },
 "nbformat": 4,
 "nbformat_minor": 4
}
